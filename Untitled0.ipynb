{
  "nbformat": 4,
  "nbformat_minor": 0,
  "metadata": {
    "colab": {
      "name": "Untitled0.ipynb",
      "provenance": [],
      "authorship_tag": "ABX9TyNEVWTJlkEQUMfLfbS/zO9A",
      "include_colab_link": true
    },
    "kernelspec": {
      "name": "python3",
      "display_name": "Python 3"
    }
  },
  "cells": [
    {
      "cell_type": "markdown",
      "metadata": {
        "id": "view-in-github",
        "colab_type": "text"
      },
      "source": [
        "<a href=\"https://colab.research.google.com/github/souvik25162/diabetes/blob/master/Untitled0.ipynb\" target=\"_parent\"><img src=\"https://colab.research.google.com/assets/colab-badge.svg\" alt=\"Open In Colab\"/></a>"
      ]
    },
    {
      "cell_type": "code",
      "metadata": {
        "id": "BBNc2ZS_E1kF"
      },
      "source": [
        "a=\"sorry,sorry,sorry,sorry,sorry,sorry,sorry,sorry,sorry,sorry,sorry,sorry,sorry,sorry,sorry,sorry,sorry,sorry,sorry,sorry,sorry,sorry,sorry,sorry,sorry,sorry,sorry,sorry,sorry,sorry,sorry,sorry,sorry,sorry,sorry,sorry,sorry,sorry,sorry,sorry,sorry,sorry,sorry,sorry,sorry,sorry,sorry,sorry,sorry,sorry,sorry,sorry,sorry,sorry,sorry,sorry,sorry,sorry,sorry,sorry,sorry,sorry,sorry,sorry,sorry,sorry,sorry,sorry,sorry,sorry,sorry,sorry,sorry,sorry,sorry,sorry,sorry,sorry,sorry,sorry,sorry,sorry,sorry,sorry,sorry,sorry,sorry,sorry,sorry,sorry,sorry,sorry,sorry,sorry,sorry,sorry,sorry,sorry,sorry,sorry\""
      ],
      "execution_count": null,
      "outputs": []
    },
    {
      "cell_type": "code",
      "metadata": {
        "colab": {
          "base_uri": "https://localhost:8080/"
        },
        "id": "tqN-iv0rJjNf",
        "outputId": "02331224-9ad8-4929-9c7e-12eed7910f36"
      },
      "source": [
        "love_string=a.replace('sorry','kiss')\r\n",
        "print(love_string)"
      ],
      "execution_count": null,
      "outputs": [
        {
          "output_type": "stream",
          "text": [
            "kiss,kiss,kiss,kiss,kiss,kiss,kiss,kiss,kiss,kiss,kiss,kiss,kiss,kiss,kiss,kiss,kiss,kiss,kiss,kiss,kiss,kiss,kiss,kiss,kiss,kiss,kiss,kiss,kiss,kiss,kiss,kiss,kiss,kiss,kiss,kiss,kiss,kiss,kiss,kiss,kiss,kiss,kiss,kiss,kiss,kiss,kiss,kiss,kiss,kiss,kiss,kiss,kiss,kiss,kiss,kiss,kiss,kiss,kiss,kiss,kiss,kiss,kiss,kiss,kiss,kiss,kiss,kiss,kiss,kiss,kiss,kiss,kiss,kiss,kiss,kiss,kiss,kiss,kiss,kiss,kiss,kiss,kiss,kiss,kiss,kiss,kiss,kiss,kiss,kiss,kiss,kiss,kiss,kiss,kiss,kiss,kiss,kiss,kiss,kiss\n"
          ],
          "name": "stdout"
        }
      ]
    },
    {
      "cell_type": "code",
      "metadata": {
        "colab": {
          "base_uri": "https://localhost:8080/"
        },
        "id": "Z45IQ52DKn7m",
        "outputId": "4f4361bc-66ed-44a7-b7aa-e3153b3560b3"
      },
      "source": [
        "love_string2=a.replace('sorry','😘')\r\n",
        "print(love_string2)"
      ],
      "execution_count": null,
      "outputs": [
        {
          "output_type": "stream",
          "text": [
            "😘,😘,😘,😘,😘,😘,😘,😘,😘,😘,😘,😘,😘,😘,😘,😘,😘,😘,😘,😘,😘,😘,😘,😘,😘,😘,😘,😘,😘,😘,😘,😘,😘,😘,😘,😘,😘,😘,😘,😘,😘,😘,😘,😘,😘,😘,😘,😘,😘,😘,😘,😘,😘,😘,😘,😘,😘,😘,😘,😘,😘,😘,😘,😘,😘,😘,😘,😘,😘,😘,😘,😘,😘,😘,😘,😘,😘,😘,😘,😘,😘,😘,😘,😘,😘,😘,😘,😘,😘,😘,😘,😘,😘,😘,😘,😘,😘,😘,😘,😘\n"
          ],
          "name": "stdout"
        }
      ]
    },
    {
      "cell_type": "code",
      "metadata": {
        "id": "Tre_ggIK9SYA"
      },
      "source": [
        "Text=\"2020 has brought unprecedented challenges for all. Elections or no elections, the masses matter more than ever. Let all be well & let the citizen's choice prevail.#Elections2020 #VotingRights #India\""
      ],
      "execution_count": 8,
      "outputs": []
    },
    {
      "cell_type": "code",
      "metadata": {
        "colab": {
          "base_uri": "https://localhost:8080/"
        },
        "id": "P8IweNQ99Sg6",
        "outputId": "f59f1357-cb7f-45f8-b12d-06329573beb8"
      },
      "source": [
        "len(Text)"
      ],
      "execution_count": 9,
      "outputs": [
        {
          "output_type": "execute_result",
          "data": {
            "text/plain": [
              "198"
            ]
          },
          "metadata": {
            "tags": []
          },
          "execution_count": 9
        }
      ]
    },
    {
      "cell_type": "code",
      "metadata": {
        "id": "wlbf38Ai9Sm9"
      },
      "source": [
        "Text2=\"I humbly apologize to all parties who have been hurt by my comments. My words may have been taken out of context for I intended no offense, but I promise to do better in the future.\""
      ],
      "execution_count": 11,
      "outputs": []
    },
    {
      "cell_type": "code",
      "metadata": {
        "colab": {
          "base_uri": "https://localhost:8080/"
        },
        "id": "XySJXhsm9Ssk",
        "outputId": "dc9e3a3a-f4d7-4f50-b464-f690d2a5f44d"
      },
      "source": [
        "len(Text2)"
      ],
      "execution_count": 12,
      "outputs": [
        {
          "output_type": "execute_result",
          "data": {
            "text/plain": [
              "181"
            ]
          },
          "metadata": {
            "tags": []
          },
          "execution_count": 12
        }
      ]
    },
    {
      "cell_type": "code",
      "metadata": {
        "id": "Zs0kQLIsA1zx"
      },
      "source": [
        "Text3=\"It is heartbreaking to witness the plight of our brothers and sisters in the Sunderbans. They are the worst affected victims of this calamity- rendered homeless and alone. Let us join hands to help revive this community of wonderful people. #SundarbanCalamityVictims #SaveSundarban\""
      ],
      "execution_count": 13,
      "outputs": []
    },
    {
      "cell_type": "code",
      "metadata": {
        "colab": {
          "base_uri": "https://localhost:8080/"
        },
        "id": "lqFb7UUSA_5z",
        "outputId": "fce5a1b2-f8b3-479e-d6ff-dfbe658e3113"
      },
      "source": [
        "len(Text3)"
      ],
      "execution_count": 14,
      "outputs": [
        {
          "output_type": "execute_result",
          "data": {
            "text/plain": [
              "281"
            ]
          },
          "metadata": {
            "tags": []
          },
          "execution_count": 14
        }
      ]
    },
    {
      "cell_type": "code",
      "metadata": {
        "id": "-MNMffAMEcdB"
      },
      "source": [
        "Text4=\"It is heartbreaking to witness the plight of our brothers and sisters in the Sunderbans. They are the worst affected victims of this calamity- rendered homeless and alone. Let us join hands to help revive this community. I am doing my part, are you? #SundarbanCalamityVictims #SaveSundarbans\""
      ],
      "execution_count": 15,
      "outputs": []
    },
    {
      "cell_type": "code",
      "metadata": {
        "colab": {
          "base_uri": "https://localhost:8080/"
        },
        "id": "wrqkui97Eh9F",
        "outputId": "cb21abb1-f3d0-4dae-86bc-a0c1d894cf8c"
      },
      "source": [
        "len(Text4)"
      ],
      "execution_count": 16,
      "outputs": [
        {
          "output_type": "execute_result",
          "data": {
            "text/plain": [
              "291"
            ]
          },
          "metadata": {
            "tags": []
          },
          "execution_count": 16
        }
      ]
    }
  ]
}